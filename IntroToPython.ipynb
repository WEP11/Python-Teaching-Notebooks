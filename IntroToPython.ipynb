{
 "cells": [
  {
   "cell_type": "markdown",
   "metadata": {},
   "source": [
    "# The Basics\n",
    "This notebook goes over the basics of Python. By the end of this you should be familiar with the basic python syntax and flow (and be ready for Challenge I)."
   ]
  },
  {
   "cell_type": "markdown",
   "metadata": {},
   "source": [
    "## Variables and Variable Types\n",
    "A variable is simply a value stored in a location in the computer's memory, and the variable name provides an easy way for us humans to identify the variable and interact with it.\n",
    "\n",
    "Variable names should be:\n",
    "1. Unique\n",
    "2. Clear\n",
    "3. Consistent\n",
    "\n",
    "The rule of thumb is that someone else should be able to pick up your code and know what a variable is without digging too much into your code.\n",
    "\n",
    "Variables can be either <b>Numbers</b> or <b>Strings</b>.\n",
    "\n",
    "### Numbers\n",
    "Python supports integers (whole numbers), floating point numbers (decimals), and complex numbers (imaginary). Making and setting variables is easy!"
   ]
  },
  {
   "cell_type": "code",
   "execution_count": null,
   "metadata": {
    "collapsed": true
   },
   "outputs": [],
   "source": [
    "# Here's how we make variables!\n",
    "myInteger = 1\n",
    "myFloat = 3.14\n",
    "myComplex = 1j\n",
    "\n",
    "# By the way, this is a comment in Python! You can say anything you want in a comment!\n",
    "\n",
    "# Scientific Notation is possible too!\n",
    "# the e is followed by the power of 10\n",
    "myScientificNumber = 0.27314e-3"
   ]
  },
  {
   "cell_type": "markdown",
   "metadata": {},
   "source": [
    "## Strings\n",
    "Strings are a way to store characters as a variable, but there is quite a bit of use in strings!"
   ]
  },
  {
   "cell_type": "code",
   "execution_count": 2,
   "metadata": {
    "collapsed": true
   },
   "outputs": [],
   "source": [
    "# Let's make a string!\n",
    "myString = 'I made a string!'\n",
    "# You can use double or single quotes to make a string\n",
    "# Now let's check out a few other features of strings!"
   ]
  },
  {
   "cell_type": "markdown",
   "metadata": {},
   "source": [
    "### Concatenating Strings\n",
    "You can also concatenate or put strings together. You simply use the plus symbol, check out this example:"
   ]
  },
  {
   "cell_type": "code",
   "execution_count": 4,
   "metadata": {
    "scrolled": true
   },
   "outputs": [
    {
     "name": "stdout",
     "output_type": "stream",
     "text": [
      "I made a string! and I put this other string on the end!\n",
      "Here is my very very long string! I enclose all of the parts in parentheses to put it all together.\n"
     ]
    }
   ],
   "source": [
    "# The plus symbol means to concatenate, or put together, when we are dealing with strings\n",
    "myBetterString = myString + ' and I put this other string on the end!'\n",
    "print(myBetterString) # Now this function will \"print\" what is in parentheses as output.\n",
    "\n",
    "# Now say you are writing a very long string and don't want to write it all on one line\n",
    "myLongString = ('Here is my very very long string! '\n",
    "               'I enclose all of the parts in parentheses '\n",
    "               'to put it all together.')\n",
    "print(myLongString)"
   ]
  },
  {
   "cell_type": "markdown",
   "metadata": {},
   "source": [
    "### About the print function\n",
    "\n",
    "Notice how this time the string appeared below the code block? That is what the print function does, it will make whatever is within the parentheses appear as output. If you were working in the terminal or command prompt the output would be in that window, but in the notebook the output is always below the code block (that is also where you will see all of the errors).\n",
    "\n",
    "The print function is pretty useful, we'll be using it a lot during this workshop!\n",
    "\n",
    "### Indexing and Slicing Strings\n",
    "One more neat thing about strings is the ability to index and slice them. <b>Indexing</b> is the assignment of each character of a string to a number (starting with 0) and selecting it. <b>Slicing</b> is selecting a range of indexes you would like from a string. Confused? Don't be, here's an example:"
   ]
  },
  {
   "cell_type": "code",
   "execution_count": 5,
   "metadata": {},
   "outputs": [
    {
     "name": "stdout",
     "output_type": "stream",
     "text": [
      "H\n"
     ]
    }
   ],
   "source": [
    "# Indexing is assigning each character a numerical value and calling it.\n",
    "# The good news is that this 'assignment' thing happens automatically when you make a string!\n",
    "myString = \"Here is my awesome string!\"\n",
    "# Here is how we index the string:\n",
    "print(myString[0])"
   ]
  },
  {
   "cell_type": "markdown",
   "metadata": {},
   "source": [
    "Yeah, it's that easy to index a string! Just use brackets and enter the number representing the character you are interested in. Here is a longer indexing example before we show you slicing:"
   ]
  },
  {
   "cell_type": "code",
   "execution_count": 6,
   "metadata": {},
   "outputs": [
    {
     "name": "stdout",
     "output_type": "stream",
     "text": [
      "i\n"
     ]
    }
   ],
   "source": [
    "# Let's print another character from our string. How about the letter i from the word is.\n",
    "# We just count, including spaces, from the first letter starting from 0 to get the index number we need...\n",
    "print(myString[5])"
   ]
  },
  {
   "cell_type": "markdown",
   "metadata": {},
   "source": [
    "Now let's talk about slicing. Slicing is selecting the part of the string you want between two index values. Here's how:"
   ]
  },
  {
   "cell_type": "code",
   "execution_count": 17,
   "metadata": {},
   "outputs": [
    {
     "name": "stdout",
     "output_type": "stream",
     "text": [
      "but I only care about this part!\n",
      "but I only care about this part!\n"
     ]
    }
   ],
   "source": [
    "myString = \"Here is my long string, but I only care about this part!\"\n",
    "\n",
    "# So I only want the part I care about, let's slice it!\n",
    "print(myString[24:56])\n",
    "\n",
    "# There is also a shortcut we can use, see if you can see how it works!\n",
    "print(myString[24:])"
   ]
  },
  {
   "cell_type": "markdown",
   "metadata": {},
   "source": [
    "## Lists\n",
    "Lists are exactly what they sound like, lists of values! They can be any of the types of variables we just talked about, and using them is easy:"
   ]
  },
  {
   "cell_type": "code",
   "execution_count": 18,
   "metadata": {},
   "outputs": [
    {
     "name": "stdout",
     "output_type": "stream",
     "text": [
      "3\n",
      "[1, 2, 3, 4, 5]\n",
      "[1, 2, 3]\n"
     ]
    }
   ],
   "source": [
    "# Here is how we make a list\n",
    "myList = [1,2,3,4,5]\n",
    "\n",
    "# We can call an element of a list like this\n",
    "print(myList[2])\n",
    "\n",
    "# We can also just call the entire list\n",
    "print(myList[:])\n",
    "# Or slice the list\n",
    "print(myList[0:3])"
   ]
  },
  {
   "cell_type": "markdown",
   "metadata": {},
   "source": [
    "You can also change things in a list, here is an example with a bunch of new stuff:"
   ]
  },
  {
   "cell_type": "code",
   "execution_count": 23,
   "metadata": {},
   "outputs": [
    {
     "name": "stdout",
     "output_type": "stream",
     "text": [
      "('Here is my shopping list: ', ['Eggs', 'Milk', 'Cookies', 'Steak', 'Carrots'])\n",
      "But I don't want carrots, I want cake!\n",
      "('Here is my new list: ', ['Eggs', 'Milk', 'Cookies', 'Steak', 'Cake'])\n",
      "Oh but I forgot to add soda!\n",
      "('My final list is: ', ['Eggs', 'Milk', 'Cookies', 'Steak', 'Cake', 'Soda'])\n"
     ]
    }
   ],
   "source": [
    "myShoppingList = ['Eggs','Milk','Cookies','Steak','Carrots']\n",
    "\n",
    "print('Here is my shopping list: ',myShoppingList) # Notice how I can print multiple things\n",
    "print(\"But I don't want carrots, I want cake!\")\n",
    "myShoppingList[4]='Cake' #We set an element equal to something else like this\n",
    "\n",
    "print('Here is my new list: ', myShoppingList)\n",
    "print('Oh but I forgot to add soda!')\n",
    "myShoppingList.append('Soda') # and we append to the end of the list like this\n",
    "\n",
    "print('My final list is: ', myShoppingList)"
   ]
  },
  {
   "cell_type": "markdown",
   "metadata": {},
   "source": [
    "Slicing and indexing lists is the same as doing them to strings. One more thing we can do with lists is place lists inside of lists, also called <b>Nesting</b>."
   ]
  },
  {
   "cell_type": "code",
   "execution_count": 25,
   "metadata": {},
   "outputs": [
    {
     "name": "stdout",
     "output_type": "stream",
     "text": [
      "[['Carrots', 'Lettuce', 'Tomatoes', 'Sprouts'], ['Cookies', 'Cake', 'Fudge', 'Candy']]\n",
      "Lettuce\n"
     ]
    }
   ],
   "source": [
    "healthyFood = ['Carrots','Lettuce','Tomatoes','Sprouts']\n",
    "goodFood = ['Cookies','Cake','Fudge','Candy']\n",
    "myShoppingList = [healthyFood,goodFood] # We nest by simply naming these other lists when we define this list\n",
    "\n",
    "print(myShoppingList)\n",
    "\n",
    "# And we select elements like this:\n",
    "print(myShoppingList[0][1])"
   ]
  },
  {
   "cell_type": "markdown",
   "metadata": {},
   "source": [
    "Lists are very similar to arrays, and it may be easier to think of them as a kind of array! But, arrays in Python are used through a module called Numpy. You can do a lot with lists, but when serious math begins to appear, Numpy might be a better option.\n",
    "\n",
    "## Operators and Expressions\n",
    "This will probably be the easiest section to grasp. Doing math in Python is as easy as knowing your operators:"
   ]
  },
  {
   "cell_type": "code",
   "execution_count": 26,
   "metadata": {},
   "outputs": [
    {
     "name": "stdout",
     "output_type": "stream",
     "text": [
      "4\n"
     ]
    }
   ],
   "source": [
    "# First let's set some numbers as variables\n",
    "x=2\n",
    "y=2\n",
    "\n",
    "answer=x+y\n",
    "print(answer)"
   ]
  },
  {
   "cell_type": "markdown",
   "metadata": {},
   "source": [
    "Okay, so that was the easy part. But let's talk about variable types again, notice how the input variables were all integers so the answer was an integer. What happens when we mix a float with an integer?"
   ]
  },
  {
   "cell_type": "code",
   "execution_count": 27,
   "metadata": {},
   "outputs": [
    {
     "name": "stdout",
     "output_type": "stream",
     "text": [
      "4.9\n"
     ]
    }
   ],
   "source": [
    "myFloat = 2.9\n",
    "myInt = 2\n",
    "\n",
    "answer = myFloat + myInt\n",
    "print(answer)"
   ]
  },
  {
   "cell_type": "markdown",
   "metadata": {},
   "source": [
    "Python automatically made the answer a float, the answer <b>inherited</b> the datatype.\n",
    "\n",
    "Here are all of the Python operators you can use:\n",
    "    1. Addition +\n",
    "    2. Subtraction -\n",
    "    3. Multiplication *\n",
    "    4. Division /\n",
    "    5. Modulus %\n",
    "    6. Exponent **\n",
    "    7. Floor Division //\n",
    "    \n",
    "Parentheses are also valid in python and everything follows the order of operations."
   ]
  },
  {
   "cell_type": "markdown",
   "metadata": {},
   "source": [
    "## Challenge I\n",
    "\n",
    "In the code block below, convert 14 degrees Farenheight to Kelvin. Be sure to print the results:"
   ]
  },
  {
   "cell_type": "code",
   "execution_count": null,
   "metadata": {
    "collapsed": true
   },
   "outputs": [],
   "source": []
  },
  {
   "cell_type": "markdown",
   "metadata": {},
   "source": [
    "## Challenge II\n",
    "In the block below, select the temperature value from the datalogger string. Then convert the temperature from Farenheight to Kelvin like you did above."
   ]
  },
  {
   "cell_type": "code",
   "execution_count": 3,
   "metadata": {},
   "outputs": [
    {
     "ename": "SyntaxError",
     "evalue": "invalid syntax (<ipython-input-3-a1fc2d469ed2>, line 1)",
     "output_type": "error",
     "traceback": [
      "\u001b[0;36m  File \u001b[0;32m\"<ipython-input-3-a1fc2d469ed2>\"\u001b[0;36m, line \u001b[0;32m1\u001b[0m\n\u001b[0;31m    PRESSURE: 1012, WIND_SPEED: 5, TEMPERATURE: 58, DEWPOINT: 40, SOLAR_RADIATION: 520\"\u001b[0m\n\u001b[0m                  ^\u001b[0m\n\u001b[0;31mSyntaxError\u001b[0m\u001b[0;31m:\u001b[0m invalid syntax\n"
     ]
    }
   ],
   "source": [
    "# Here is the data logger string:\n",
    "loggerString = \"PRESSURE: 1012, WIND_SPEED: 5, TEMPERATURE: 58, DEWPOINT: 40, SOLAR_RADIATION: 520\"\n",
    "\n",
    "# Now select only the number 58:\n"
   ]
  },
  {
   "cell_type": "markdown",
   "metadata": {},
   "source": [
    "## Challenge III\n",
    "In the block below, select each value from the datalogger string and place them into a datalog list.\n",
    "\n",
    "You should have a list in the end that contains the values: 1012, 5, 58, 40, 520\n",
    "\n",
    "Print each value from the list. It should print out like this:\n",
    "\n",
    "`\n",
    "Pressure: 1012\n",
    "Wind Speed: 5\n",
    "Temperature: 58\n",
    "Dewpoint: 40\n",
    "Solar Radiation: 520`"
   ]
  },
  {
   "cell_type": "code",
   "execution_count": null,
   "metadata": {
    "collapsed": true
   },
   "outputs": [],
   "source": [
    "# Here is the data logger string:\n",
    "loggerString = \"PRESSURE: 1012, WIND_SPEED: 5, TEMPERATURE: 58, DEWPOINT: 40, SOLAR_RADIATION: 520\"\n",
    "\n",
    "# Now place the numbers into a list:\n"
   ]
  },
  {
   "cell_type": "markdown",
   "metadata": {
    "collapsed": true
   },
   "source": [
    "# Program Flow\n",
    "\n",
    "Now we are going to talk about flow statements. These are what let your program do more than just calculate, but before we jump into it we should go over the comparison operators in Python:\n",
    "    1. Equals (==)\n",
    "    2. Not Equal (!=)\n",
    "    3. Greater than (>)\n",
    "    4. Less than (<)\n",
    "    5. Greater than or equal (>=)\n",
    "    6. Less than or equal (<=)\n",
    "    \n",
    "## IF Statements\n",
    "If statements are a simple fork in your program flow. An if statement compares two values and if the result is true it will do what is inside the statement. Let's take a look at a simple example:"
   ]
  },
  {
   "cell_type": "code",
   "execution_count": 2,
   "metadata": {},
   "outputs": [
    {
     "name": "stdout",
     "output_type": "stream",
     "text": [
      "x equals 1 !\n",
      "I guess x must equal 1 !\n"
     ]
    }
   ],
   "source": [
    "# Let's look at a simple if statement!\n",
    "x = 1\n",
    "if x == 1:\n",
    "    print('x equals 1 !')\n",
    "    \n",
    "# If statements can also have else if and else statements. If the statement isn't true at the first if\n",
    "# then it will try at the else if statement. If none of the else if statements return true, then there\n",
    "# can still be an else statement at the end for if all else fails. Check this out:\n",
    "\n",
    "if x != 1:\n",
    "    print('x does not equal 1!')\n",
    "elif x == 2:\n",
    "    print('Why does x equal 2?')\n",
    "else:\n",
    "    print('I guess x must equal 1 !')"
   ]
  },
  {
   "cell_type": "markdown",
   "metadata": {},
   "source": [
    "If statements are great for forks in your program flow, or when a decision needs to be made about data. Now let's look at how we do things repetitively!\n",
    "\n",
    "## For Statement (a loop!)\n",
    "For statements perform repetitive tasks. They will do the tasks enclosed within the statements for as many times as you tell it. Here is an example:"
   ]
  },
  {
   "cell_type": "code",
   "execution_count": 3,
   "metadata": {},
   "outputs": [
    {
     "name": "stdout",
     "output_type": "stream",
     "text": [
      "6\n"
     ]
    }
   ],
   "source": [
    "# Let's say I want to add 1 to x five times...\n",
    "x = 1\n",
    "\n",
    "for i in range(5):\n",
    "    x = x + 1\n",
    "\n",
    "print(x)"
   ]
  },
  {
   "cell_type": "markdown",
   "metadata": {},
   "source": [
    "Let's take a closer look, first you state you are doing a for loop. The letter 'i' is a new variable you are using to hold a single element of the sequence you are looping over. In this case the sequence is the range from 1 to 5, so i will equal 1 through 5 as the for statement loops through. Here is another example looping through a list:"
   ]
  },
  {
   "cell_type": "code",
   "execution_count": 4,
   "metadata": {},
   "outputs": [
    {
     "name": "stdout",
     "output_type": "stream",
     "text": [
      "Cookies\n",
      "Milk\n",
      "Cake\n",
      "Eggs\n"
     ]
    }
   ],
   "source": [
    "shoppingList = ['Cookies','Milk','Cake','Eggs']\n",
    "\n",
    "for item in shoppingList: # Now we are looping through each element of our list\n",
    "    print(item)"
   ]
  },
  {
   "cell_type": "markdown",
   "metadata": {},
   "source": [
    "## While Loop\n",
    "The while loop is another type of loop you can use. This loop will continue to do a task __while__ something is true. It's less commonly used than the For loop because it doesn't have strict conditions for ending. Check out this example:"
   ]
  },
  {
   "cell_type": "code",
   "execution_count": 1,
   "metadata": {},
   "outputs": [
    {
     "name": "stdout",
     "output_type": "stream",
     "text": [
      "YUCK!\n"
     ]
    }
   ],
   "source": [
    "shoppingList = ['Cookies','Milk','Cake','Eggs']\n",
    "\n",
    "sick = False\n",
    "i = 0\n",
    "\n",
    "# Keep eating until we are sick!\n",
    "# We are going to continue the loop until sick is true\n",
    "while sick is False:\n",
    "    if shoppingList[i] == 'Eggs': # If we eat eggs then we get sick\n",
    "        sick = True\n",
    "    i += 1 # Increment i by 1\n",
    "    \n",
    "print(\"YUCK!\")"
   ]
  },
  {
   "cell_type": "markdown",
   "metadata": {},
   "source": [
    "## Other Statements\n",
    "These statements aren't entirely necessary for building programs, but can be useful.\n",
    "## Try Statement\n",
    "Life isn't always perfect. Sometimes we don't know if things will work out. That's why Python has the Try statement! This is used in situations where an error could occur, but you don't want you application to crash because of it."
   ]
  },
  {
   "cell_type": "code",
   "execution_count": 2,
   "metadata": {},
   "outputs": [
    {
     "name": "stdout",
     "output_type": "stream",
     "text": [
      "Oops, we can't do that\n"
     ]
    }
   ],
   "source": [
    "# Let's try to divide by zero!\n",
    "try:\n",
    "    i = 12 / 0 \n",
    "except:\n",
    "    print(\"Oops, we can't do that\")"
   ]
  },
  {
   "cell_type": "markdown",
   "metadata": {},
   "source": [
    "The best practice with __except__ statements is to specifically set the exception type"
   ]
  },
  {
   "cell_type": "code",
   "execution_count": 2,
   "metadata": {},
   "outputs": [
    {
     "name": "stdout",
     "output_type": "stream",
     "text": [
      "Oops, we can't do that\n"
     ]
    }
   ],
   "source": [
    "try:\n",
    "    i = 12 / 0 \n",
    "except ZeroDivisionError:\n",
    "    print(\"Oops, we can't do that\")"
   ]
  },
  {
   "cell_type": "markdown",
   "metadata": {},
   "source": [
    "You can find more information on exception handling here: https://docs.python.org/3/tutorial/errors.html"
   ]
  },
  {
   "cell_type": "markdown",
   "metadata": {},
   "source": [
    "## More on Statements\n",
    "The details on these and other statement types can be found on the Python 3 Language Reference online (https://docs.python.org/3/reference/index.html). Here is an example that brings these other statements together:"
   ]
  },
  {
   "cell_type": "markdown",
   "metadata": {},
   "source": [
    "# Functions\n",
    "Functions are one of the most important program components, they contain their own self contained code that will execute whenever you need it. Imagine if you wrote a neat line that converts celcius to fahrenheit temperature, you wouldn't want to rewrite that code, so let's write a function!"
   ]
  },
  {
   "cell_type": "code",
   "execution_count": 6,
   "metadata": {},
   "outputs": [
    {
     "name": "stdout",
     "output_type": "stream",
     "text": [
      "72.5\n"
     ]
    }
   ],
   "source": [
    "# Here we define the function.\n",
    "# In parentheses is the variable we are inputting\n",
    "def convertCtoF(C):\n",
    "    F = (C*(9/5))+32\n",
    "    return F # Now we 'return' F as the result of this function\n",
    "\n",
    "myCelciusTemp = 40.5\n",
    "myFahrenheitTemp = convertCtoF(myCelciusTemp) # Notice how the input variable doesn't have\n",
    "                                              # Have to be named the same as the one we defined above?\n",
    "                                              # The variable just has to be of the same type!\n",
    "\n",
    "print(myFahrenheitTemp)"
   ]
  },
  {
   "cell_type": "markdown",
   "metadata": {},
   "source": [
    "# Wrapping it up...\n",
    "That's pretty much it! Now you should be able to build decent programs with the basics we just went over, more complicated stuff is achieved with modules you 'import' but we'll get into that next. Python also has OOP capabilities, which you should explore once you feel comfortable with the basics. Everything above is all you need to get started writing some neat code! But before we move on...\n",
    "\n",
    "## Challenge IV\n",
    "You've just completed grading a bunch of synoptic maps, but you need to find the highest grade. In the empty box below write a function called 'maximum' that can find the maximum value of any list given to it. When you've written the function in the first box, run your code, then run the code below it to see if you did it correctly!"
   ]
  },
  {
   "cell_type": "code",
   "execution_count": 13,
   "metadata": {
    "collapsed": true
   },
   "outputs": [],
   "source": []
  },
  {
   "cell_type": "code",
   "execution_count": 14,
   "metadata": {
    "scrolled": true
   },
   "outputs": [
    {
     "name": "stdout",
     "output_type": "stream",
     "text": [
      "('The high score was: ', '98')\n"
     ]
    }
   ],
   "source": [
    "classScores = ['87','21','18','30','92','75','22','80','85','18','95','98','89']\n",
    "highScore = maximum(classScores)\n",
    "\n",
    "print('The high score was: ',highScore)"
   ]
  },
  {
   "cell_type": "code",
   "execution_count": null,
   "metadata": {
    "collapsed": true
   },
   "outputs": [],
   "source": []
  }
 ],
 "metadata": {
  "anaconda-cloud": {},
  "kernelspec": {
   "display_name": "Python 3",
   "language": "python",
   "name": "python3"
  },
  "language_info": {
   "codemirror_mode": {
    "name": "ipython",
    "version": 3
   },
   "file_extension": ".py",
   "mimetype": "text/x-python",
   "name": "python",
   "nbconvert_exporter": "python",
   "pygments_lexer": "ipython3",
   "version": "3.6.1"
  }
 },
 "nbformat": 4,
 "nbformat_minor": 1
}
