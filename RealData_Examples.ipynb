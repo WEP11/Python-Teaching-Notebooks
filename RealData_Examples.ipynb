{
 "cells": [
  {
   "cell_type": "markdown",
   "metadata": {},
   "source": [
    "# Connecting to Real Data\n",
    "In this notebook we're going to learn how to connect to off-site data sources using tools like Siphon and netcdf4.\n",
    "\n",
    "## THREDDS Data Server\n",
    "A THREDDS data server (TDS) hosts netCDF files that can be interacted with. You can download the dataset directly, but that would force you to manually update the dataset. Instead, we will be collecting the data we need by accessing the dataset offsite via an openDAP request."
   ]
  },
  {
   "cell_type": "code",
   "execution_count": 14,
   "metadata": {
    "collapsed": true
   },
   "outputs": [],
   "source": [
    "from siphon.catalog import TDSCatalog\n",
    "from siphon.http_util import session_manager\n",
    "\n",
    "# Plot small sample image\n",
    "%matplotlib inline\n",
    "import matplotlib.pyplot as plt"
   ]
  },
  {
   "cell_type": "code",
   "execution_count": 15,
   "metadata": {},
   "outputs": [
    {
     "name": "stdout",
     "output_type": "stream",
     "text": [
      "['Year.nc', 'Water.nc', 'Sumr.nc', 'Month.nc', 'Grow.nc', '90d.nc', '7d.nc', '6m.nc', '60d.nc', '36m.nc', '30d.nc', '24m.nc', '14d.nc', '12m.nc', '120d.nc']\n"
     ]
    }
   ],
   "source": [
    "cat = TDSCatalog('https://hprcc.unl.edu/thredds/acis/catalog.xml')\n",
    "print(list(cat.datasets))"
   ]
  },
  {
   "cell_type": "code",
   "execution_count": 24,
   "metadata": {},
   "outputs": [
    {
     "data": {
      "text/plain": [
       "{'SPI',\n",
       " 'avgt',\n",
       " 'avgt_d',\n",
       " 'cdd',\n",
       " 'cdd_d',\n",
       " 'gdd_40',\n",
       " 'gdd_50',\n",
       " 'hdd',\n",
       " 'hdd_d',\n",
       " 'maxt',\n",
       " 'maxt_d',\n",
       " 'mint',\n",
       " 'mint_d',\n",
       " 'pcp',\n",
       " 'pcp_d',\n",
       " 'pcp_pct'}"
      ]
     },
     "execution_count": 24,
     "metadata": {},
     "output_type": "execute_result"
    }
   ],
   "source": [
    "ds = cat.datasets['30d.nc']\n",
    "ncss = ds.subset()\n",
    "ncss.variables"
   ]
  },
  {
   "cell_type": "code",
   "execution_count": 27,
   "metadata": {
    "scrolled": true
   },
   "outputs": [
    {
     "data": {
      "text/plain": [
       "var=SPI&longitude=-96.69&latitude=40.797"
      ]
     },
     "execution_count": 27,
     "metadata": {},
     "output_type": "execute_result"
    }
   ],
   "source": [
    "query = ncss.query()\n",
    "query.lonlat_point(lon=-96.690, lat=40.797)\n",
    "query.variables('SPI')"
   ]
  },
  {
   "cell_type": "code",
   "execution_count": 28,
   "metadata": {
    "scrolled": false
   },
   "outputs": [
    {
     "name": "stdout",
     "output_type": "stream",
     "text": [
      "[0.95834327]\n"
     ]
    }
   ],
   "source": [
    "nc = ncss.get_data(query)\n",
    "print(nc['SPI'])"
   ]
  }
 ],
 "metadata": {
  "kernelspec": {
   "display_name": "Python 3",
   "language": "python",
   "name": "python3"
  },
  "language_info": {
   "codemirror_mode": {
    "name": "ipython",
    "version": 3
   },
   "file_extension": ".py",
   "mimetype": "text/x-python",
   "name": "python",
   "nbconvert_exporter": "python",
   "pygments_lexer": "ipython3",
   "version": "3.6.1"
  }
 },
 "nbformat": 4,
 "nbformat_minor": 2
}
