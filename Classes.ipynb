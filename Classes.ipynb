{
 "cells": [
  {
   "cell_type": "markdown",
   "metadata": {},
   "source": [
    "# Intro to Object Oriented Programming\n",
    "\n",
    "You're writing a library for multiple weather station manufacterers. Station A uses a laser thermometer to calculate temperature and has very different calibration functions than Station B. Eventually you have two different files: StationA.py and StationB.py. You had to be very careful to prefix every function with StationA and ensure constants were labelled differently, because now you're writing a script that uses data from both stations. Wouldn't it be nice if you didn't have to worry much about these naming conventions!? Or had to keep track of 30 different variables from each station!? Let's see if Object Oriented Programming is our solution!\n",
    "\n",
    "Object oriented programming is an important milestone in mastering software design. It allows you to easily write code in teams, minimize naming conflicts, and define new variables for complex data types. It will also store data more effectively for whatever complex objects you're using.\n",
    "\n",
    "## Objects/Classes\n",
    "StationA and StationB are individual things with several variables associated with them. Both stations have a temperature, dewpoint, and windspeed, but StationB has a soil moisture sensor. To make matters worse, we have 300 weather stations to keep track of! Here is what the scientist first came up with to collect data from these stations:"
   ]
  },
  {
   "cell_type": "code",
   "execution_count": 4,
   "metadata": {},
   "outputs": [
    {
     "name": "stdout",
     "output_type": "stream",
     "text": [
      "Calibrated!\n",
      "Warm\n",
      "Calibrated!\n",
      "Warm\n",
      "Calibrated!\n",
      "Warm\n",
      "Calibrated!\n",
      "Warm\n",
      "Calibrated!\n",
      "Warm\n",
      "Calibrated!\n",
      "Warm\n"
     ]
    }
   ],
   "source": [
    "def stationA_calibrateTemp(sid):\n",
    "    return \"Calibrated!\"\n",
    "\n",
    "\n",
    "def stationB_calibrateTemp(sid):\n",
    "    return \"Calibrated!\"\n",
    "\n",
    "\n",
    "def stationA_getTemp(sid):\n",
    "    return \"Warm\"\n",
    "\n",
    "def stationB_getTemp(sid):\n",
    "    return \"Warm\"\n",
    "\n",
    "# Collect Station Temperatures\n",
    "stationA_ID = [0,1,2]\n",
    "stationB_ID = [0,1,2]\n",
    "\n",
    "stationA_temp = []\n",
    "stationB_temp = []\n",
    "stationC_temp = []\n",
    "\n",
    "for sid in stationA_ID:\n",
    "    print(stationA_calibrateTemp(sid))\n",
    "    print(stationA_getTemp(sid))\n",
    "    \n",
    "for sid in stationB_ID:\n",
    "    print(stationB_calibrateTemp(sid))\n",
    "    print(stationB_getTemp(sid))"
   ]
  },
  {
   "cell_type": "markdown",
   "metadata": {},
   "source": [
    "Imagine if we had to check other sensors before collecting the temperature, or had additional station types. Things would get out of hand pretty quickly! So instead of writing functions for everything, we're going to \"encapsulate\" the station functions within classes."
   ]
  },
  {
   "cell_type": "code",
   "execution_count": 11,
   "metadata": {},
   "outputs": [
    {
     "name": "stdout",
     "output_type": "stream",
     "text": [
      "Station A Online\n",
      "Calibrating Station A\n",
      "It's warm outside at SID: 0\n",
      "\n",
      "\n",
      "Station A Online\n",
      "Calibrating Station A\n",
      "It's warm outside at SID: 1\n",
      "\n",
      "\n",
      "Station A Online\n",
      "Calibrating Station A\n",
      "It's warm outside at SID: 2\n",
      "\n",
      "\n",
      "Station A Online\n",
      "Calibrating Station A\n",
      "It's warm outside at SID: 3\n",
      "\n",
      "\n",
      "Station A Online\n",
      "Calibrating Station A\n",
      "It's warm outside at SID: 4\n",
      "\n",
      "\n",
      "Station A Online\n",
      "Calibrating Station A\n",
      "It's warm outside at SID: 5\n",
      "\n",
      "\n",
      "Station B Online\n",
      "Calibrating Station B\n",
      "It's cold outside at SID: 0\n",
      "\n",
      "\n",
      "Station B Online\n",
      "Calibrating Station B\n",
      "It's cold outside at SID: 1\n",
      "\n",
      "\n",
      "Station B Online\n",
      "Calibrating Station B\n",
      "It's cold outside at SID: 2\n",
      "\n",
      "\n",
      "Station B Online\n",
      "Calibrating Station B\n",
      "It's cold outside at SID: 3\n",
      "\n",
      "\n",
      "Station B Online\n",
      "Calibrating Station B\n",
      "It's cold outside at SID: 4\n",
      "\n",
      "\n",
      "Station B Online\n",
      "Calibrating Station B\n",
      "It's cold outside at SID: 5\n",
      "\n",
      "\n"
     ]
    }
   ],
   "source": [
    "# Class for Station A\n",
    "class station_A:\n",
    "    # This method runs as soon as the class is started!\n",
    "    def __init__(self, sid):\n",
    "        self.sid = sid\n",
    "        self.checkConnection()\n",
    "    \n",
    "    def checkConnection(self):\n",
    "        print(\"Station A Online\")\n",
    "        \n",
    "    def getTemp(self):\n",
    "        self.calibrateSensors()\n",
    "        print(\"It's warm outside at SID:\", self.sid)\n",
    "        self.temp = 120\n",
    "        \n",
    "    def calibrateSensors(self):\n",
    "        print(\"Calibrating Station A\")\n",
    "\n",
    "# Class for Station B\n",
    "class station_B:\n",
    "    def __init__(self, sid):\n",
    "        self.sid = sid\n",
    "        self.checkConnection()\n",
    "    \n",
    "    def checkConnection(self):\n",
    "        print(\"Station B Online\")\n",
    "        \n",
    "    def getTemp(self):\n",
    "        self.calibrateSensors()\n",
    "        print(\"It's cold outside at SID:\", self.sid)\n",
    "        self.temp = -120\n",
    "        \n",
    "    def calibrateSensors(self):\n",
    "        print(\"Calibrating Station B\")\n",
    "        \n",
    "\n",
    "sidsA = [0,1,2,3,4,5]\n",
    "sidsB = [0,1,2,3,4,5]\n",
    "\n",
    "for sid in sidsA:\n",
    "    wxStn = station_A(sid)\n",
    "    wxStn.getTemp()\n",
    "    print(\"Read temp as :\", wxStn.temp)\n",
    "    print(\"\\n\")\n",
    "    \n",
    "for sid in sidsB:\n",
    "    wxStn = station_B(sid)\n",
    "    wxStn.getTemp()\n",
    "    print(\"Read temp as :\", wxStn.temp)\n",
    "    print(\"\\n\")"
   ]
  },
  {
   "cell_type": "markdown",
   "metadata": {},
   "source": [
    "Right away we can see that there are two classes here, Station_A and Station_B. They both have functions that are named the same thing! This is the first benefit of classes: Encapsulation. The contents of a class are generally invisible to other things unless they are invoked in the code.\n",
    "\n",
    "The classes are used at the bottom like a function. When a class is initialized, it becomes an object. The WxStn variable is an instance of the Station_A class, or an object.\n",
    "\n",
    "Each class contains several functions, called methods. Methods do things to the object. The __init__ method is the first one to run. When we initialize the object, we pass the sid variable, and it goes to this __init__ method. An __init__ method is not required for a class. Each method is required to have the self parameter.\n",
    "\n",
    "Every class also has attributes, or variables within the class. Attributes are called within the class by using self.variableName. Outside of the class, we called the stationA temperature attribute using wxStn.temp."
   ]
  },
  {
   "cell_type": "markdown",
   "metadata": {},
   "source": [
    "### How do I know what a class is?\n",
    "\n",
    "Getting started, you can try this simple language exercise to begin understanding better. In practice though, things aren't as clear cut.\n",
    "\n",
    "Write out what your software will do. Identify any nouns and verbs, they can be potential classes (nouns) and methods (verbs).\n",
    "\n",
    "\"The station data collector will need to __collect__ temperature, dewpoint, and wind data from __station type A__ and __station type B__ and __calibrate__ the sensors at each site.\"\n",
    "\n",
    "\n"
   ]
  },
  {
   "cell_type": "markdown",
   "metadata": {},
   "source": [
    "## Learning More\n",
    "\n",
    "There is much more to explore in OOP, and classes are just the beginning. Hopefully this very simple introduction helps you visualize some initial concepts as you learn more from these resources below.\n",
    "\n",
    "* A Byte of Python: https://python.swaroopch.com/oop.html\n",
    "* Wikipedia: https://en.wikipedia.org/wiki/Object-oriented_programming\n"
   ]
  },
  {
   "cell_type": "code",
   "execution_count": null,
   "metadata": {
    "collapsed": true
   },
   "outputs": [],
   "source": []
  }
 ],
 "metadata": {
  "kernelspec": {
   "display_name": "Python 3",
   "language": "python",
   "name": "python3"
  },
  "language_info": {
   "codemirror_mode": {
    "name": "ipython",
    "version": 3
   },
   "file_extension": ".py",
   "mimetype": "text/x-python",
   "name": "python",
   "nbconvert_exporter": "python",
   "pygments_lexer": "ipython3",
   "version": "3.6.1"
  }
 },
 "nbformat": 4,
 "nbformat_minor": 2
}
