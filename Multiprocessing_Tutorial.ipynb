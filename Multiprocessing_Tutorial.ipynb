{
 "cells": [
  {
   "cell_type": "markdown",
   "metadata": {},
   "source": [
    "# Multi-Processing Tutorial\n",
    "One method of increasing your computation times is to complete multiple calculations at once. Python offers two ways of doing this: Threading and Multiprocessing. Threading uses a shared memory space while Multiprocessing does not. This makes multi processing a little easier to use starting out. Let's check out a few ways of using Multi Processing in Python!"
   ]
  },
  {
   "cell_type": "code",
   "execution_count": 1,
   "metadata": {},
   "outputs": [],
   "source": [
    "import multiprocessing as mp\n",
    "import math\n",
    "import time"
   ]
  },
  {
   "cell_type": "code",
   "execution_count": 2,
   "metadata": {},
   "outputs": [],
   "source": [
    "def calculate(number, queue=None):\n",
    "    print(\"I see #:\", number)\n",
    "    time.sleep(3)\n",
    "    if queue is None:\n",
    "        return\n",
    "    else:\n",
    "        queue.put('I gave the number back')"
   ]
  },
  {
   "cell_type": "markdown",
   "metadata": {},
   "source": [
    "First we're going to setup a list of jobs and queues. These will store the jobs, which reference our separate processes, and the queues, which let us retrieve data from our jobs."
   ]
  },
  {
   "cell_type": "code",
   "execution_count": 3,
   "metadata": {},
   "outputs": [],
   "source": [
    "jobs = []\n",
    "queues = []\n",
    "testData = [1, 2, 3, 4, 5, 6]"
   ]
  },
  {
   "cell_type": "code",
   "execution_count": 4,
   "metadata": {},
   "outputs": [
    {
     "name": "stdout",
     "output_type": "stream",
     "text": [
      "I see #: 1\n",
      "I see #: 2\n",
      "I see #: 3\n",
      "I see #: 4\n",
      "I see #: 6\n",
      "I see #: 5\n",
      "I gave the number back\n",
      "I gave the number back\n",
      "I gave the number back\n",
      "I gave the number back\n",
      "I gave the number back\n",
      "I gave the number back\n",
      "Time Elapsed (s): 3.064931631088257\n"
     ]
    }
   ],
   "source": [
    "start = time.time()\n",
    "for value in testData:\n",
    "    q = mp.Queue() # The 'Queue' lets us exchange data\n",
    "    p = mp.Process(target=calculate,\n",
    "                   args=(value, q)) # Calling a function with arguments, the Queue is an argument\n",
    "    # Collect our queues and jobs for later reference\n",
    "    queues.append(q)\n",
    "    jobs.append(p)\n",
    "    p.start()\n",
    "               \n",
    "for i, p in enumerate(jobs):\n",
    "    print(queues[i].get())\n",
    "    p.join() # This 'joins' the job back to the main process. It's important.\n",
    "end = time.time()\n",
    "print('Time Elapsed (s):', end - start)"
   ]
  },
  {
   "cell_type": "markdown",
   "metadata": {},
   "source": [
    "It took about 3 seconds to run 6 things at once that required 3 seconds to complete. Now let's compare the runtime if we don't use multiprocessing:"
   ]
  },
  {
   "cell_type": "code",
   "execution_count": 6,
   "metadata": {},
   "outputs": [
    {
     "name": "stdout",
     "output_type": "stream",
     "text": [
      "I see #: 1\n",
      "I see #: 2\n",
      "I see #: 3\n",
      "I see #: 4\n",
      "I see #: 5\n",
      "I see #: 6\n",
      "Time Elapsed (s): 18.02040958404541\n"
     ]
    }
   ],
   "source": [
    "start = time.time()\n",
    "for value in testData:\n",
    "    calculate(value)\n",
    "end = time.time()\n",
    "print('Time Elapsed (s):', end - start)"
   ]
  },
  {
   "cell_type": "markdown",
   "metadata": {},
   "source": [
    "It took about 3 times 6 seconds to complete the job without multiprocessing. It does take time to setup the processes. If you ran simple calculations through multi processing you would see that it's slightly slower than sequential calculations. The longer a job takes, the more advantageous multiprocessing becomes."
   ]
  },
  {
   "cell_type": "markdown",
   "metadata": {},
   "source": [
    "Last, let's checkout a way you can simplify multiprocessing! This method is great if you don't need to pass arguments to your target function or method."
   ]
  },
  {
   "cell_type": "code",
   "execution_count": 7,
   "metadata": {},
   "outputs": [
    {
     "name": "stdout",
     "output_type": "stream",
     "text": [
      "I see #: 1\n",
      "I see #: 3\n",
      "I see #: 2\n",
      "I see #: 4\n",
      "I see #: 6\n",
      "I see #: 5\n"
     ]
    }
   ],
   "source": [
    "pool = mp.Pool(3)\n",
    "results = [pool.map(calculate, testData)]"
   ]
  },
  {
   "cell_type": "markdown",
   "metadata": {},
   "source": [
    "The multiprocessing Pool is great because you can 'map' your processes. In this case we tell the Pool that we only want to run 3 processes at a time (this is good for conserving resources). Then we 'map' each piece of test data to it's own instance of the calculate function. The disadvantage is that we can't pass arguments to the function with this method. But everything Pool does we could do manually in the previous example!"
   ]
  },
  {
   "cell_type": "code",
   "execution_count": null,
   "metadata": {},
   "outputs": [],
   "source": []
  }
 ],
 "metadata": {
  "kernelspec": {
   "display_name": "Python [default]",
   "language": "python",
   "name": "python3"
  },
  "language_info": {
   "codemirror_mode": {
    "name": "ipython",
    "version": 3
   },
   "file_extension": ".py",
   "mimetype": "text/x-python",
   "name": "python",
   "nbconvert_exporter": "python",
   "pygments_lexer": "ipython3",
   "version": "3.6.4"
  }
 },
 "nbformat": 4,
 "nbformat_minor": 2
}
